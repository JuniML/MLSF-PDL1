{
 "cells": [
  {
   "cell_type": "markdown",
   "id": "8cd5fff8",
   "metadata": {},
   "source": [
    "### Load required packages"
   ]
  },
  {
   "cell_type": "code",
   "execution_count": 6,
   "id": "9d60ccbc",
   "metadata": {},
   "outputs": [],
   "source": [
    "import numpy as np\n",
    "import pandas as pd\n",
    "import zipfile, pickle\n",
    "from sklearn.metrics import precision_recall_curve, auc\n",
    "from convert_pIC50_to_activity import bin_predicted_pIC50, bin_observed_pIC50"
   ]
  },
  {
   "cell_type": "markdown",
   "id": "47a4ce43",
   "metadata": {},
   "source": [
    "### SVM GRID SF Model (Training actives + RandomDecoys)"
   ]
  },
  {
   "cell_type": "code",
   "execution_count": 7,
   "id": "e6cc8601",
   "metadata": {},
   "outputs": [],
   "source": [
    "filename = \"../models/GRID_SVM_SFs_training_actives_and_RandomDecoys.sav\"\n",
    "GRID_SVM_SF = pickle.load(open(filename, 'rb'))"
   ]
  },
  {
   "cell_type": "markdown",
   "id": "0b2eea15",
   "metadata": {},
   "source": [
    "### Load GRID Features"
   ]
  },
  {
   "cell_type": "code",
   "execution_count": 8,
   "id": "7adea327",
   "metadata": {},
   "outputs": [],
   "source": [
    "test_rdkit_grid_features_pubchems = np.load(\"../data/test_set/RDKit_Grid_Feature_Test_PubChem.zip\")\n",
    "test_rdkit_grid_features_pubchems = pd.DataFrame(test_rdkit_grid_features_pubchems['RDKit_Grid_Feature_Test_PubChem'])\n",
    "\n",
    "PubChems_Labels = pd.read_csv(\"../data/test_set/PubChem_IDs.csv\")"
   ]
  },
  {
   "cell_type": "markdown",
   "id": "946a7f80",
   "metadata": {},
   "source": [
    "### Predict on Test Set"
   ]
  },
  {
   "cell_type": "code",
   "execution_count": 9,
   "id": "085c721a",
   "metadata": {},
   "outputs": [],
   "source": [
    "prediction_test_rdkit_grid_svm = GRID_SVM_SF.predict(test_rdkit_grid_features_pubchems)"
   ]
  },
  {
   "cell_type": "markdown",
   "id": "22902868",
   "metadata": {},
   "source": [
    "### Get AUC-PR"
   ]
  },
  {
   "cell_type": "code",
   "execution_count": 10,
   "id": "029a15f8",
   "metadata": {},
   "outputs": [
    {
     "name": "stdout",
     "output_type": "stream",
     "text": [
      "0.9371600803145588\n"
     ]
    }
   ],
   "source": [
    "svm_rdkit_grid_result = pd.DataFrame({\"Predicted_pIC50\": prediction_test_rdkit_grid_svm,\n",
    "                                     \"Observed_pIC50\": list(PubChems_Labels['pIC50'])})\n",
    "svm_rdkit_grid_result['Predicted_Activity'] = svm_rdkit_grid_result.apply(bin_predicted_pIC50, axis = 1)\n",
    "svm_rdkit_grid_result['Observed_Activity'] = svm_rdkit_grid_result.apply(bin_observed_pIC50,axis = 1)\n",
    "from sklearn.metrics import precision_recall_curve, auc\n",
    "svm_rdkit_grid_result['normalized_scores'] = (svm_rdkit_grid_result['Predicted_pIC50'] - svm_rdkit_grid_result['Predicted_pIC50'].min()) / (svm_rdkit_grid_result['Predicted_pIC50'].max() - svm_rdkit_grid_result['Predicted_pIC50'].min())\n",
    "precision_rdkit_grid_svm, recall_rdkit_grid_svm, threshold_rdkit_grid_svm = precision_recall_curve(svm_rdkit_grid_result['Observed_Activity'], svm_rdkit_grid_result['normalized_scores'], pos_label = 'Active')\n",
    "svm_rdkit_grid_precision_recall = pd.DataFrame({\"Precision\": precision_rdkit_grid_svm,\n",
    "                                               \"Recall\": recall_rdkit_grid_svm})\n",
    "print(auc(recall_rdkit_grid_svm, precision_rdkit_grid_svm))"
   ]
  }
 ],
 "metadata": {
  "kernelspec": {
   "display_name": "Python 3 (ipykernel)",
   "language": "python",
   "name": "python3"
  },
  "language_info": {
   "codemirror_mode": {
    "name": "ipython",
    "version": 3
   },
   "file_extension": ".py",
   "mimetype": "text/x-python",
   "name": "python",
   "nbconvert_exporter": "python",
   "pygments_lexer": "ipython3",
   "version": "3.6.13"
  }
 },
 "nbformat": 4,
 "nbformat_minor": 5
}
