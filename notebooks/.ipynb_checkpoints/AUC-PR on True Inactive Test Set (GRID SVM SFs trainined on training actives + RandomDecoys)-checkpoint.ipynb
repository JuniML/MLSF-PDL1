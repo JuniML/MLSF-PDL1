{
 "cells": [
  {
   "cell_type": "code",
   "execution_count": 3,
   "id": "60c42f22",
   "metadata": {},
   "outputs": [],
   "source": [
    "import numpy as np\n",
    "import pandas as pd\n",
    "import zipfile\n",
    "\n",
    "test_rdkit_grid_features_pubchems = np.load(\"../data/test_set/RDKit_Grid_Feature_Test_PubChem.zip\")\n",
    "test_rdkit_grid_features_pubchems = pd.DataFrame(test_rdkit_grid_features_pubchems['RDKit_Grid_Feature_Test_PubChem'])\n",
    "\n",
    "DeepCoys_Labels = pd.read_csv(\"../data/test_set/PubChem_IDs.csv\")"
   ]
  },
  {
   "cell_type": "code",
   "execution_count": 4,
   "id": "2e2be53b",
   "metadata": {},
   "outputs": [],
   "source": [
    "import pickle\n",
    "filename = \"../models/GRID_SVM_SFs_training_actives_and_RandomDecoys.sav\"\n",
    "GRID_SVM_SF = pickle.load(open(filename, 'rb'))"
   ]
  },
  {
   "cell_type": "code",
   "execution_count": null,
   "id": "8103ef5e",
   "metadata": {},
   "outputs": [],
   "source": [
    "prediction_test_rdkit_grid_svm = GRID_SVM_SF.predict(test_rdkit_grid_features_deepcoys)"
   ]
  }
 ],
 "metadata": {
  "kernelspec": {
   "display_name": "Python 3 (ipykernel)",
   "language": "python",
   "name": "python3"
  },
  "language_info": {
   "codemirror_mode": {
    "name": "ipython",
    "version": 3
   },
   "file_extension": ".py",
   "mimetype": "text/x-python",
   "name": "python",
   "nbconvert_exporter": "python",
   "pygments_lexer": "ipython3",
   "version": "3.6.13"
  }
 },
 "nbformat": 4,
 "nbformat_minor": 5
}
