{
 "cells": [
  {
   "cell_type": "markdown",
   "id": "7f0de4e5",
   "metadata": {},
   "source": [
    "### Load Model, Load Descriptors, Predict on Test Set, Calculate AUC-PR"
   ]
  },
  {
   "cell_type": "code",
   "execution_count": 1,
   "id": "dcec5c53",
   "metadata": {},
   "outputs": [],
   "source": [
    "import pickle\n",
    "filename = \"../models/GRID_SVM_SFs_training_actives_and_TrueInactives.sav\"\n",
    "GRID_SVM_SF = pickle.load(open(filename, 'rb'))"
   ]
  },
  {
   "cell_type": "code",
   "execution_count": 9,
   "id": "e1cfe997",
   "metadata": {},
   "outputs": [],
   "source": [
    "import numpy as np\n",
    "import pandas as pd\n",
    "import zipfile\n",
    "#archive = zipfile.ZipFile('mail.zip', 'r')\n",
    "#Let us verify the operation..\n",
    "#txtdata = archive.read('mail.txt')\n",
    "\n",
    "test_rdkit_grid_features_deepcoys = np.load(\"../data/test_set/RDKit_Grid_Feature_Test_DeepCoy.zip\")\n",
    "test_rdkit_grid_features_deepcoys = pd.DataFrame(test_rdkit_grid_features_deepcoys['RDKit_Grid_Feature_Test_DeepCoy'])\n",
    "\n",
    "DeepCoys_Labels = pd.read_csv(\"../data/test_set/DeepCoy_IDs.csv\")"
   ]
  },
  {
   "cell_type": "code",
   "execution_count": 11,
   "id": "876437d9",
   "metadata": {},
   "outputs": [],
   "source": [
    "test_rdkit_grid_features_deepcoys = pd.DataFrame(test_rdkit_grid_features_deepcoys['RDKit_Grid_Feature_Test_DeepCoy'])"
   ]
  },
  {
   "cell_type": "code",
   "execution_count": 14,
   "id": "ab7f538e",
   "metadata": {},
   "outputs": [],
   "source": [
    "prediction_test_rdkit_grid_svm = GRID_SVM_SF.predict(test_rdkit_grid_features_deepcoys)"
   ]
  },
  {
   "cell_type": "code",
   "execution_count": 18,
   "id": "b3d70408",
   "metadata": {},
   "outputs": [],
   "source": [
    "svm_rdkit_grid_result = pd.DataFrame({\"Predicted_pIC50\": prediction_test_rdkit_grid_svm,\n",
    "                                     \"Observed_pIC50\": list(DeepCoys_Labels['pIC50'])})\n",
    "\n",
    "\n",
    "def bin_predicted_pIC50(row):\n",
    "    if row['Predicted_pIC50'] >= 5:\n",
    "        val = 'Active'\n",
    "    else:\n",
    "        val = \"Inactive\"\n",
    "    return val\n",
    "\n",
    "def bin_observed_pIC50(row):\n",
    "    if row['Observed_pIC50'] >= 5:\n",
    "        val = 'Active'\n",
    "    else:\n",
    "        val = 'Inactive'\n",
    "    return val\n",
    "\n",
    "\n",
    "svm_rdkit_grid_result['Predicted_Activity'] = svm_rdkit_grid_result.apply(bin_predicted_pIC50, axis = 1)\n",
    "svm_rdkit_grid_result['Observed_Activity'] = svm_rdkit_grid_result.apply(bin_observed_pIC50,axis = 1)"
   ]
  },
  {
   "cell_type": "code",
   "execution_count": 19,
   "id": "44ec8887",
   "metadata": {},
   "outputs": [
    {
     "data": {
      "text/plain": [
       "0.9585547139818924"
      ]
     },
     "execution_count": 19,
     "metadata": {},
     "output_type": "execute_result"
    }
   ],
   "source": [
    "from sklearn.metrics import precision_recall_curve, auc\n",
    "svm_rdkit_grid_result['normalized_scores'] = (svm_rdkit_grid_result['Predicted_pIC50'] - svm_rdkit_grid_result['Predicted_pIC50'].min()) / (svm_rdkit_grid_result['Predicted_pIC50'].max() - svm_rdkit_grid_result['Predicted_pIC50'].min())\n",
    "precision_rdkit_grid_svm, recall_rdkit_grid_svm, threshold_rdkit_grid_svm = precision_recall_curve(svm_rdkit_grid_result['Observed_Activity'], svm_rdkit_grid_result['normalized_scores'], pos_label = 'Active')\n",
    "svm_rdkit_grid_precision_recall = pd.DataFrame({\"Precision\": precision_rdkit_grid_svm,\n",
    "                                               \"Recall\": recall_rdkit_grid_svm})\n",
    "auc(recall_rdkit_grid_svm, precision_rdkit_grid_svm)"
   ]
  },
  {
   "cell_type": "code",
   "execution_count": null,
   "id": "556852a4",
   "metadata": {},
   "outputs": [],
   "source": []
  }
 ],
 "metadata": {
  "kernelspec": {
   "display_name": "Python 3 (ipykernel)",
   "language": "python",
   "name": "python3"
  },
  "language_info": {
   "codemirror_mode": {
    "name": "ipython",
    "version": 3
   },
   "file_extension": ".py",
   "mimetype": "text/x-python",
   "name": "python",
   "nbconvert_exporter": "python",
   "pygments_lexer": "ipython3",
   "version": "3.6.13"
  }
 },
 "nbformat": 4,
 "nbformat_minor": 5
}
